{
 "cells": [
  {
   "cell_type": "code",
   "execution_count": 1,
   "metadata": {},
   "outputs": [],
   "source": [
    "import pandas as pd\n",
    "from sqlalchemy import create_engine\n",
    "from config import password\n",
    "import numpy as np\n",
    "import matplotlib.pyplot as plt"
   ]
  },
  {
   "cell_type": "code",
   "execution_count": 2,
   "metadata": {},
   "outputs": [],
   "source": [
    "import scipy.stats as stats"
   ]
  },
  {
   "cell_type": "markdown",
   "metadata": {},
   "source": [
    "# Import Data"
   ]
  },
  {
   "cell_type": "code",
   "execution_count": 3,
   "metadata": {},
   "outputs": [
    {
     "data": {
      "text/html": [
       "<div>\n",
       "<style scoped>\n",
       "    .dataframe tbody tr th:only-of-type {\n",
       "        vertical-align: middle;\n",
       "    }\n",
       "\n",
       "    .dataframe tbody tr th {\n",
       "        vertical-align: top;\n",
       "    }\n",
       "\n",
       "    .dataframe thead th {\n",
       "        text-align: right;\n",
       "    }\n",
       "</style>\n",
       "<table border=\"1\" class=\"dataframe\">\n",
       "  <thead>\n",
       "    <tr style=\"text-align: right;\">\n",
       "      <th></th>\n",
       "      <th>ADDRESS</th>\n",
       "      <th>SUBURB</th>\n",
       "      <th>PRICE</th>\n",
       "      <th>BEDROOMS</th>\n",
       "      <th>BATHROOMS</th>\n",
       "      <th>GARAGE</th>\n",
       "      <th>LAND_AREA</th>\n",
       "      <th>FLOOR_AREA</th>\n",
       "      <th>BUILD_YEAR</th>\n",
       "      <th>CBD_DIST</th>\n",
       "      <th>NEAREST_STN</th>\n",
       "      <th>NEAREST_STN_DIST</th>\n",
       "      <th>DATE_SOLD</th>\n",
       "      <th>POSTCODE</th>\n",
       "      <th>LATITUDE</th>\n",
       "      <th>LONGITUDE</th>\n",
       "      <th>NEAREST_SCH</th>\n",
       "      <th>NEAREST_SCH_DIST</th>\n",
       "      <th>NEAREST_SCH_RANK</th>\n",
       "    </tr>\n",
       "  </thead>\n",
       "  <tbody>\n",
       "    <tr>\n",
       "      <th>0</th>\n",
       "      <td>1 Acorn Place</td>\n",
       "      <td>South Lake</td>\n",
       "      <td>565000</td>\n",
       "      <td>4</td>\n",
       "      <td>2</td>\n",
       "      <td>2.0</td>\n",
       "      <td>600</td>\n",
       "      <td>160</td>\n",
       "      <td>2003.0</td>\n",
       "      <td>18300</td>\n",
       "      <td>Cockburn Central Station</td>\n",
       "      <td>1800</td>\n",
       "      <td>09-2018\\r</td>\n",
       "      <td>6164</td>\n",
       "      <td>-32.11590</td>\n",
       "      <td>115.842450</td>\n",
       "      <td>LAKELAND SENIOR HIGH SCHOOL</td>\n",
       "      <td>0.828339</td>\n",
       "      <td>NaN</td>\n",
       "    </tr>\n",
       "    <tr>\n",
       "      <th>1</th>\n",
       "      <td>1 Addis Way</td>\n",
       "      <td>Wandi</td>\n",
       "      <td>365000</td>\n",
       "      <td>3</td>\n",
       "      <td>2</td>\n",
       "      <td>2.0</td>\n",
       "      <td>351</td>\n",
       "      <td>139</td>\n",
       "      <td>2013.0</td>\n",
       "      <td>26900</td>\n",
       "      <td>Kwinana Station</td>\n",
       "      <td>4900</td>\n",
       "      <td>02-2019\\r</td>\n",
       "      <td>6167</td>\n",
       "      <td>-32.19347</td>\n",
       "      <td>115.859553</td>\n",
       "      <td>ATWELL COLLEGE</td>\n",
       "      <td>5.524324</td>\n",
       "      <td>129.0</td>\n",
       "    </tr>\n",
       "  </tbody>\n",
       "</table>\n",
       "</div>"
      ],
      "text/plain": [
       "         ADDRESS      SUBURB   PRICE  BEDROOMS  BATHROOMS  GARAGE  LAND_AREA  \\\n",
       "0  1 Acorn Place  South Lake  565000         4          2     2.0        600   \n",
       "1    1 Addis Way       Wandi  365000         3          2     2.0        351   \n",
       "\n",
       "   FLOOR_AREA  BUILD_YEAR  CBD_DIST               NEAREST_STN  \\\n",
       "0         160      2003.0     18300  Cockburn Central Station   \n",
       "1         139      2013.0     26900           Kwinana Station   \n",
       "\n",
       "   NEAREST_STN_DIST  DATE_SOLD  POSTCODE  LATITUDE   LONGITUDE  \\\n",
       "0              1800  09-2018\\r      6164 -32.11590  115.842450   \n",
       "1              4900  02-2019\\r      6167 -32.19347  115.859553   \n",
       "\n",
       "                   NEAREST_SCH  NEAREST_SCH_DIST  NEAREST_SCH_RANK  \n",
       "0  LAKELAND SENIOR HIGH SCHOOL          0.828339               NaN  \n",
       "1               ATWELL COLLEGE          5.524324             129.0  "
      ]
     },
     "execution_count": 3,
     "metadata": {},
     "output_type": "execute_result"
    }
   ],
   "source": [
    "csv_path = \"csv/perth_market.csv\"\n",
    "perth_df = pd.read_csv(csv_path)\n",
    "perth_df.head(2)"
   ]
  },
  {
   "cell_type": "code",
   "execution_count": 4,
   "metadata": {},
   "outputs": [
    {
     "name": "stdout",
     "output_type": "stream",
     "text": [
      "<class 'pandas.core.frame.DataFrame'>\n",
      "RangeIndex: 33656 entries, 0 to 33655\n",
      "Data columns (total 14 columns):\n",
      " #   Column            Non-Null Count  Dtype  \n",
      "---  ------            --------------  -----  \n",
      " 0   ADDRESS           33656 non-null  object \n",
      " 1   SUBURB            33656 non-null  object \n",
      " 2   PRICE             33656 non-null  int64  \n",
      " 3   BEDROOMS          33656 non-null  int64  \n",
      " 4   LAND_AREA         33656 non-null  int64  \n",
      " 5   BUILD_YEAR        30501 non-null  float64\n",
      " 6   CBD_DIST          33656 non-null  int64  \n",
      " 7   NEAREST_STN       33656 non-null  object \n",
      " 8   NEAREST_STN_DIST  33656 non-null  int64  \n",
      " 9   DATE_SOLD         33656 non-null  object \n",
      " 10  LATITUDE          33656 non-null  float64\n",
      " 11  LONGITUDE         33656 non-null  float64\n",
      " 12  NEAREST_SCH       33656 non-null  object \n",
      " 13  NEAREST_SCH_DIST  33656 non-null  float64\n",
      "dtypes: float64(4), int64(5), object(5)\n",
      "memory usage: 3.6+ MB\n"
     ]
    }
   ],
   "source": [
    "# Removing unwanted columns\n",
    "cleaned_perth_df = perth_df.drop(columns = [\"BATHROOMS\",\"GARAGE\",\"FLOOR_AREA\",\"POSTCODE\",\"NEAREST_SCH_RANK\"])\n",
    "\n",
    "cleaned_perth_df.info()"
   ]
  },
  {
   "cell_type": "code",
   "execution_count": 5,
   "metadata": {},
   "outputs": [
    {
     "data": {
      "text/plain": [
       "0              1 Acorn Place, South Lake\n",
       "1                     1 Addis Way, Wandi\n",
       "2               1 Ainsley Court, Camillo\n",
       "3              1 Albert Street, Bellevue\n",
       "4                1 Aman Place, Lockridge\n",
       "                      ...               \n",
       "33651    9C Gold Street, South Fremantle\n",
       "33652        9C Pycombe Way, Westminster\n",
       "33653        9D Pycombe Way, Westminster\n",
       "33654        9D Shalford Way, Girrawheen\n",
       "33655        9E Margaret Street, Midland\n",
       "Name: ADDRESS, Length: 33656, dtype: object"
      ]
     },
     "execution_count": 5,
     "metadata": {},
     "output_type": "execute_result"
    }
   ],
   "source": [
    "# Convert ADDRESS to FULL ADDRESS which includes the Suburb to get unique adress of sold properties\n",
    "cleaned_perth_df[\"ADDRESS\"] = cleaned_perth_df[[\"ADDRESS\",\"SUBURB\"]].apply(lambda x: ', '.join(x[x.notnull()]), axis = 1)\n",
    "\n",
    "cleaned_perth_df[\"ADDRESS\"]"
   ]
  },
  {
   "cell_type": "code",
   "execution_count": 6,
   "metadata": {},
   "outputs": [
    {
     "data": {
      "text/html": [
       "<div>\n",
       "<style scoped>\n",
       "    .dataframe tbody tr th:only-of-type {\n",
       "        vertical-align: middle;\n",
       "    }\n",
       "\n",
       "    .dataframe tbody tr th {\n",
       "        vertical-align: top;\n",
       "    }\n",
       "\n",
       "    .dataframe thead th {\n",
       "        text-align: right;\n",
       "    }\n",
       "</style>\n",
       "<table border=\"1\" class=\"dataframe\">\n",
       "  <thead>\n",
       "    <tr style=\"text-align: right;\">\n",
       "      <th></th>\n",
       "      <th>ADDRESS</th>\n",
       "      <th>SUBURB</th>\n",
       "      <th>PRICE</th>\n",
       "      <th>BEDROOMS</th>\n",
       "      <th>LAND_AREA</th>\n",
       "      <th>BUILD_YEAR</th>\n",
       "      <th>CBD_DIST</th>\n",
       "      <th>NEAREST_STN</th>\n",
       "      <th>NEAREST_STN_DIST</th>\n",
       "      <th>DATE_SOLD</th>\n",
       "      <th>LATITUDE</th>\n",
       "      <th>LONGITUDE</th>\n",
       "      <th>NEAREST_SCH</th>\n",
       "      <th>NEAREST_SCH_DIST</th>\n",
       "    </tr>\n",
       "  </thead>\n",
       "  <tbody>\n",
       "    <tr>\n",
       "      <th>4149</th>\n",
       "      <td>123 Fairway, Crawley</td>\n",
       "      <td>Crawley</td>\n",
       "      <td>818000</td>\n",
       "      <td>4</td>\n",
       "      <td>160</td>\n",
       "      <td>NaN</td>\n",
       "      <td>5500</td>\n",
       "      <td>Daglish Station</td>\n",
       "      <td>3700</td>\n",
       "      <td>02-2018\\r</td>\n",
       "      <td>-31.985151</td>\n",
       "      <td>115.815463</td>\n",
       "      <td>SHENTON COLLEGE</td>\n",
       "      <td>3.065177</td>\n",
       "    </tr>\n",
       "    <tr>\n",
       "      <th>4150</th>\n",
       "      <td>123 Fairway, Crawley</td>\n",
       "      <td>Crawley</td>\n",
       "      <td>818000</td>\n",
       "      <td>4</td>\n",
       "      <td>160</td>\n",
       "      <td>NaN</td>\n",
       "      <td>5500</td>\n",
       "      <td>Daglish Station</td>\n",
       "      <td>3700</td>\n",
       "      <td>02-2018\\r</td>\n",
       "      <td>-31.985152</td>\n",
       "      <td>115.815314</td>\n",
       "      <td>SHENTON COLLEGE</td>\n",
       "      <td>3.059929</td>\n",
       "    </tr>\n",
       "    <tr>\n",
       "      <th>4151</th>\n",
       "      <td>123 Fairway, Crawley</td>\n",
       "      <td>Crawley</td>\n",
       "      <td>818000</td>\n",
       "      <td>4</td>\n",
       "      <td>160</td>\n",
       "      <td>NaN</td>\n",
       "      <td>5500</td>\n",
       "      <td>Daglish Station</td>\n",
       "      <td>3700</td>\n",
       "      <td>02-2018\\r</td>\n",
       "      <td>-31.985133</td>\n",
       "      <td>115.815176</td>\n",
       "      <td>SHENTON COLLEGE</td>\n",
       "      <td>3.053099</td>\n",
       "    </tr>\n",
       "    <tr>\n",
       "      <th>20655</th>\n",
       "      <td>4 Carmel Road, Carmel</td>\n",
       "      <td>Carmel</td>\n",
       "      <td>955000</td>\n",
       "      <td>4</td>\n",
       "      <td>15761</td>\n",
       "      <td>2009.0</td>\n",
       "      <td>21700</td>\n",
       "      <td>Madding</td>\n",
       "      <td>9300</td>\n",
       "      <td>09-2013\\r</td>\n",
       "      <td>-32.019395</td>\n",
       "      <td>116.074759</td>\n",
       "      <td>CARMEL ADVENTIST COLLEGE</td>\n",
       "      <td>1.890651</td>\n",
       "    </tr>\n",
       "    <tr>\n",
       "      <th>20656</th>\n",
       "      <td>4 Carmel Road, Carmel</td>\n",
       "      <td>Carmel</td>\n",
       "      <td>955000</td>\n",
       "      <td>4</td>\n",
       "      <td>15761</td>\n",
       "      <td>2009.0</td>\n",
       "      <td>21700</td>\n",
       "      <td>Madding</td>\n",
       "      <td>9300</td>\n",
       "      <td>09-2013\\r</td>\n",
       "      <td>-32.019657</td>\n",
       "      <td>116.096652</td>\n",
       "      <td>CARMEL ADVENTIST COLLEGE</td>\n",
       "      <td>0.600853</td>\n",
       "    </tr>\n",
       "  </tbody>\n",
       "</table>\n",
       "</div>"
      ],
      "text/plain": [
       "                     ADDRESS   SUBURB   PRICE  BEDROOMS  LAND_AREA  \\\n",
       "4149    123 Fairway, Crawley  Crawley  818000         4        160   \n",
       "4150    123 Fairway, Crawley  Crawley  818000         4        160   \n",
       "4151    123 Fairway, Crawley  Crawley  818000         4        160   \n",
       "20655  4 Carmel Road, Carmel   Carmel  955000         4      15761   \n",
       "20656  4 Carmel Road, Carmel   Carmel  955000         4      15761   \n",
       "\n",
       "       BUILD_YEAR  CBD_DIST      NEAREST_STN  NEAREST_STN_DIST  DATE_SOLD  \\\n",
       "4149          NaN      5500  Daglish Station              3700  02-2018\\r   \n",
       "4150          NaN      5500  Daglish Station              3700  02-2018\\r   \n",
       "4151          NaN      5500  Daglish Station              3700  02-2018\\r   \n",
       "20655      2009.0     21700          Madding              9300  09-2013\\r   \n",
       "20656      2009.0     21700          Madding              9300  09-2013\\r   \n",
       "\n",
       "        LATITUDE   LONGITUDE               NEAREST_SCH  NEAREST_SCH_DIST  \n",
       "4149  -31.985151  115.815463           SHENTON COLLEGE          3.065177  \n",
       "4150  -31.985152  115.815314           SHENTON COLLEGE          3.059929  \n",
       "4151  -31.985133  115.815176           SHENTON COLLEGE          3.053099  \n",
       "20655 -32.019395  116.074759  CARMEL ADVENTIST COLLEGE          1.890651  \n",
       "20656 -32.019657  116.096652  CARMEL ADVENTIST COLLEGE          0.600853  "
      ]
     },
     "execution_count": 6,
     "metadata": {},
     "output_type": "execute_result"
    }
   ],
   "source": [
    "# Display duplicate addresses\n",
    "full_address = cleaned_perth_df[\"ADDRESS\"]\n",
    "cleaned_perth_df[full_address.isin(full_address[full_address.duplicated()])]"
   ]
  },
  {
   "cell_type": "code",
   "execution_count": 7,
   "metadata": {},
   "outputs": [
    {
     "name": "stdout",
     "output_type": "stream",
     "text": [
      "<class 'pandas.core.frame.DataFrame'>\n",
      "Int64Index: 33653 entries, 0 to 33655\n",
      "Data columns (total 14 columns):\n",
      " #   Column            Non-Null Count  Dtype  \n",
      "---  ------            --------------  -----  \n",
      " 0   ADDRESS           33653 non-null  object \n",
      " 1   SUBURB            33653 non-null  object \n",
      " 2   PRICE             33653 non-null  int64  \n",
      " 3   BEDROOMS          33653 non-null  int64  \n",
      " 4   LAND_AREA         33653 non-null  int64  \n",
      " 5   BUILD_YEAR        30500 non-null  float64\n",
      " 6   CBD_DIST          33653 non-null  int64  \n",
      " 7   NEAREST_STN       33653 non-null  object \n",
      " 8   NEAREST_STN_DIST  33653 non-null  int64  \n",
      " 9   DATE_SOLD         33653 non-null  object \n",
      " 10  LATITUDE          33653 non-null  float64\n",
      " 11  LONGITUDE         33653 non-null  float64\n",
      " 12  NEAREST_SCH       33653 non-null  object \n",
      " 13  NEAREST_SCH_DIST  33653 non-null  float64\n",
      "dtypes: float64(4), int64(5), object(5)\n",
      "memory usage: 3.9+ MB\n"
     ]
    }
   ],
   "source": [
    "# Drop duplicate data\n",
    "cleaned_perth_df.drop_duplicates(subset=[\"ADDRESS\"], keep=\"last\", inplace=True)\n",
    "cleaned_perth_df.info()"
   ]
  },
  {
   "cell_type": "code",
   "execution_count": 8,
   "metadata": {},
   "outputs": [
    {
     "name": "stdout",
     "output_type": "stream",
     "text": [
      "<class 'pandas.core.frame.DataFrame'>\n",
      "Int64Index: 30500 entries, 0 to 33654\n",
      "Data columns (total 14 columns):\n",
      " #   Column            Non-Null Count  Dtype  \n",
      "---  ------            --------------  -----  \n",
      " 0   ADDRESS           30500 non-null  object \n",
      " 1   SUBURB            30500 non-null  object \n",
      " 2   PRICE             30500 non-null  int64  \n",
      " 3   BEDROOMS          30500 non-null  int64  \n",
      " 4   LAND_AREA         30500 non-null  int64  \n",
      " 5   BUILD_YEAR        30500 non-null  float64\n",
      " 6   CBD_DIST          30500 non-null  int64  \n",
      " 7   NEAREST_STN       30500 non-null  object \n",
      " 8   NEAREST_STN_DIST  30500 non-null  int64  \n",
      " 9   DATE_SOLD         30500 non-null  object \n",
      " 10  LATITUDE          30500 non-null  float64\n",
      " 11  LONGITUDE         30500 non-null  float64\n",
      " 12  NEAREST_SCH       30500 non-null  object \n",
      " 13  NEAREST_SCH_DIST  30500 non-null  float64\n",
      "dtypes: float64(4), int64(5), object(5)\n",
      "memory usage: 3.5+ MB\n"
     ]
    }
   ],
   "source": [
    "# Remove missing data\n",
    "cleaned_perth_df.dropna(inplace=True)\n",
    "cleaned_perth_df.info()"
   ]
  },
  {
   "cell_type": "code",
   "execution_count": 9,
   "metadata": {},
   "outputs": [
    {
     "data": {
      "text/html": [
       "<div>\n",
       "<style scoped>\n",
       "    .dataframe tbody tr th:only-of-type {\n",
       "        vertical-align: middle;\n",
       "    }\n",
       "\n",
       "    .dataframe tbody tr th {\n",
       "        vertical-align: top;\n",
       "    }\n",
       "\n",
       "    .dataframe thead th {\n",
       "        text-align: right;\n",
       "    }\n",
       "</style>\n",
       "<table border=\"1\" class=\"dataframe\">\n",
       "  <thead>\n",
       "    <tr style=\"text-align: right;\">\n",
       "      <th></th>\n",
       "      <th>ADDRESS</th>\n",
       "      <th>SUBURB</th>\n",
       "      <th>PRICE</th>\n",
       "      <th>BEDROOMS</th>\n",
       "      <th>LAND_AREA</th>\n",
       "      <th>BUILD_YEAR</th>\n",
       "      <th>CBD_DIST</th>\n",
       "      <th>NEAREST_STN</th>\n",
       "      <th>NEAREST_STN_DIST</th>\n",
       "      <th>DATE_SOLD</th>\n",
       "      <th>LATITUDE</th>\n",
       "      <th>LONGITUDE</th>\n",
       "      <th>NEAREST_SCH</th>\n",
       "      <th>NEAREST_SCH_DIST</th>\n",
       "    </tr>\n",
       "  </thead>\n",
       "  <tbody>\n",
       "    <tr>\n",
       "      <th>0</th>\n",
       "      <td>1 Acorn Place, South Lake</td>\n",
       "      <td>South Lake</td>\n",
       "      <td>565000</td>\n",
       "      <td>4</td>\n",
       "      <td>600</td>\n",
       "      <td>2003.0</td>\n",
       "      <td>18300</td>\n",
       "      <td>Cockburn Central Station</td>\n",
       "      <td>1800</td>\n",
       "      <td>09-2018\\r</td>\n",
       "      <td>-32.11590</td>\n",
       "      <td>115.842450</td>\n",
       "      <td>LAKELAND SENIOR HIGH SCHOOL</td>\n",
       "      <td>0.828339</td>\n",
       "    </tr>\n",
       "    <tr>\n",
       "      <th>1</th>\n",
       "      <td>1 Addis Way, Wandi</td>\n",
       "      <td>Wandi</td>\n",
       "      <td>365000</td>\n",
       "      <td>3</td>\n",
       "      <td>351</td>\n",
       "      <td>2013.0</td>\n",
       "      <td>26900</td>\n",
       "      <td>Kwinana Station</td>\n",
       "      <td>4900</td>\n",
       "      <td>02-2019\\r</td>\n",
       "      <td>-32.19347</td>\n",
       "      <td>115.859553</td>\n",
       "      <td>ATWELL COLLEGE</td>\n",
       "      <td>5.524324</td>\n",
       "    </tr>\n",
       "  </tbody>\n",
       "</table>\n",
       "</div>"
      ],
      "text/plain": [
       "                     ADDRESS      SUBURB   PRICE  BEDROOMS  LAND_AREA  \\\n",
       "0  1 Acorn Place, South Lake  South Lake  565000         4        600   \n",
       "1         1 Addis Way, Wandi       Wandi  365000         3        351   \n",
       "\n",
       "   BUILD_YEAR  CBD_DIST               NEAREST_STN  NEAREST_STN_DIST  \\\n",
       "0      2003.0     18300  Cockburn Central Station              1800   \n",
       "1      2013.0     26900           Kwinana Station              4900   \n",
       "\n",
       "   DATE_SOLD  LATITUDE   LONGITUDE                  NEAREST_SCH  \\\n",
       "0  09-2018\\r -32.11590  115.842450  LAKELAND SENIOR HIGH SCHOOL   \n",
       "1  02-2019\\r -32.19347  115.859553               ATWELL COLLEGE   \n",
       "\n",
       "   NEAREST_SCH_DIST  \n",
       "0          0.828339  \n",
       "1          5.524324  "
      ]
     },
     "execution_count": 9,
     "metadata": {},
     "output_type": "execute_result"
    }
   ],
   "source": [
    "# Removing properties with land areas over 2500 sqm\n",
    "cleaned_perth_df = cleaned_perth_df.loc[cleaned_perth_df[\"LAND_AREA\"] <= 2500]\n",
    "cleaned_perth_df.head(2)"
   ]
  },
  {
   "cell_type": "code",
   "execution_count": 10,
   "metadata": {},
   "outputs": [
    {
     "name": "stdout",
     "output_type": "stream",
     "text": [
      "<class 'pandas.core.frame.DataFrame'>\n",
      "Int64Index: 27724 entries, 0 to 33654\n",
      "Data columns (total 15 columns):\n",
      " #   Column            Non-Null Count  Dtype  \n",
      "---  ------            --------------  -----  \n",
      " 0   ADDRESS           27724 non-null  object \n",
      " 1   SUBURB            27724 non-null  object \n",
      " 2   PRICE             27724 non-null  int64  \n",
      " 3   BEDROOMS          27724 non-null  int64  \n",
      " 4   LAND_AREA         27724 non-null  int64  \n",
      " 5   BUILD_YEAR        27724 non-null  float64\n",
      " 6   CBD_DIST          27724 non-null  int64  \n",
      " 7   NEAREST_STN       27724 non-null  object \n",
      " 8   NEAREST_STN_DIST  27724 non-null  int64  \n",
      " 9   DATE_SOLD         27724 non-null  object \n",
      " 10  LATITUDE          27724 non-null  float64\n",
      " 11  LONGITUDE         27724 non-null  float64\n",
      " 12  NEAREST_SCH       27724 non-null  object \n",
      " 13  NEAREST_SCH_DIST  27724 non-null  float64\n",
      " 14  YEAR_SOLD         27724 non-null  int32  \n",
      "dtypes: float64(4), int32(1), int64(5), object(5)\n",
      "memory usage: 3.3+ MB\n"
     ]
    }
   ],
   "source": [
    "# Convert DATE_SOLD column from MM-YYYY to YYYY to only get the year preperty sold\n",
    "date_splited = cleaned_perth_df[\"DATE_SOLD\"].str.rsplit('-')\n",
    "\n",
    "year = []\n",
    "for date in date_splited:\n",
    "    year.append(date[1])\n",
    "\n",
    "cleaned_perth_df[\"YEAR_SOLD\"] = year\n",
    "cleaned_perth_df[\"YEAR_SOLD\"] = cleaned_perth_df[\"YEAR_SOLD\"].astype(int)\n",
    "cleaned_perth_df.info()"
   ]
  },
  {
   "cell_type": "code",
   "execution_count": 11,
   "metadata": {},
   "outputs": [
    {
     "name": "stdout",
     "output_type": "stream",
     "text": [
      "<class 'pandas.core.frame.DataFrame'>\n",
      "Int64Index: 27724 entries, 0 to 33654\n",
      "Data columns (total 15 columns):\n",
      " #   Column            Non-Null Count  Dtype  \n",
      "---  ------            --------------  -----  \n",
      " 0   ADDRESS           27724 non-null  object \n",
      " 1   SUBURB            27724 non-null  object \n",
      " 2   PRICE             27724 non-null  int64  \n",
      " 3   BEDROOMS          27724 non-null  int64  \n",
      " 4   LAND_AREA         27724 non-null  int64  \n",
      " 5   BUILD_YEAR        27724 non-null  int32  \n",
      " 6   CBD_DIST          27724 non-null  int64  \n",
      " 7   NEAREST_STN       27724 non-null  object \n",
      " 8   NEAREST_STN_DIST  27724 non-null  int64  \n",
      " 9   DATE_SOLD         27724 non-null  object \n",
      " 10  LATITUDE          27724 non-null  float64\n",
      " 11  LONGITUDE         27724 non-null  float64\n",
      " 12  NEAREST_SCH       27724 non-null  object \n",
      " 13  NEAREST_SCH_DIST  27724 non-null  float64\n",
      " 14  YEAR_SOLD         27724 non-null  int32  \n",
      "dtypes: float64(3), int32(2), int64(5), object(5)\n",
      "memory usage: 3.2+ MB\n"
     ]
    }
   ],
   "source": [
    "# convert BUILD_YEAR column from FLOAT to INT\n",
    "cleaned_perth_df[\"BUILD_YEAR\"] = cleaned_perth_df[\"BUILD_YEAR\"].astype(int)\n",
    "cleaned_perth_df.info()"
   ]
  },
  {
   "cell_type": "code",
   "execution_count": 12,
   "metadata": {},
   "outputs": [
    {
     "data": {
      "text/html": [
       "<div>\n",
       "<style scoped>\n",
       "    .dataframe tbody tr th:only-of-type {\n",
       "        vertical-align: middle;\n",
       "    }\n",
       "\n",
       "    .dataframe tbody tr th {\n",
       "        vertical-align: top;\n",
       "    }\n",
       "\n",
       "    .dataframe thead th {\n",
       "        text-align: right;\n",
       "    }\n",
       "</style>\n",
       "<table border=\"1\" class=\"dataframe\">\n",
       "  <thead>\n",
       "    <tr style=\"text-align: right;\">\n",
       "      <th></th>\n",
       "      <th>ADDRESS</th>\n",
       "      <th>SUBURB</th>\n",
       "      <th>PRICE</th>\n",
       "      <th>BEDROOMS</th>\n",
       "      <th>LAND_AREA</th>\n",
       "      <th>BUILD_YEAR</th>\n",
       "      <th>CBD_DIST</th>\n",
       "      <th>NEAREST_STN</th>\n",
       "      <th>NEAREST_STN_DIST</th>\n",
       "      <th>DATE_SOLD</th>\n",
       "      <th>LATITUDE</th>\n",
       "      <th>LONGITUDE</th>\n",
       "      <th>NEAREST_SCH</th>\n",
       "      <th>NEAREST_SCH_DIST</th>\n",
       "      <th>YEAR_SOLD</th>\n",
       "    </tr>\n",
       "  </thead>\n",
       "  <tbody>\n",
       "    <tr>\n",
       "      <th>0</th>\n",
       "      <td>1 Acorn Place, South Lake</td>\n",
       "      <td>South Lake</td>\n",
       "      <td>565000</td>\n",
       "      <td>4</td>\n",
       "      <td>600</td>\n",
       "      <td>2003</td>\n",
       "      <td>18300</td>\n",
       "      <td>Cockburn Central Station</td>\n",
       "      <td>1800</td>\n",
       "      <td>09-2018\\r</td>\n",
       "      <td>-32.11590</td>\n",
       "      <td>115.842450</td>\n",
       "      <td>LAKELAND SENIOR HIGH SCHOOL</td>\n",
       "      <td>0.828339</td>\n",
       "      <td>2018</td>\n",
       "    </tr>\n",
       "    <tr>\n",
       "      <th>1</th>\n",
       "      <td>1 Addis Way, Wandi</td>\n",
       "      <td>Wandi</td>\n",
       "      <td>365000</td>\n",
       "      <td>3</td>\n",
       "      <td>351</td>\n",
       "      <td>2013</td>\n",
       "      <td>26900</td>\n",
       "      <td>Kwinana Station</td>\n",
       "      <td>4900</td>\n",
       "      <td>02-2019\\r</td>\n",
       "      <td>-32.19347</td>\n",
       "      <td>115.859553</td>\n",
       "      <td>ATWELL COLLEGE</td>\n",
       "      <td>5.524324</td>\n",
       "      <td>2019</td>\n",
       "    </tr>\n",
       "  </tbody>\n",
       "</table>\n",
       "</div>"
      ],
      "text/plain": [
       "                     ADDRESS      SUBURB   PRICE  BEDROOMS  LAND_AREA  \\\n",
       "0  1 Acorn Place, South Lake  South Lake  565000         4        600   \n",
       "1         1 Addis Way, Wandi       Wandi  365000         3        351   \n",
       "\n",
       "   BUILD_YEAR  CBD_DIST               NEAREST_STN  NEAREST_STN_DIST  \\\n",
       "0        2003     18300  Cockburn Central Station              1800   \n",
       "1        2013     26900           Kwinana Station              4900   \n",
       "\n",
       "   DATE_SOLD  LATITUDE   LONGITUDE                  NEAREST_SCH  \\\n",
       "0  09-2018\\r -32.11590  115.842450  LAKELAND SENIOR HIGH SCHOOL   \n",
       "1  02-2019\\r -32.19347  115.859553               ATWELL COLLEGE   \n",
       "\n",
       "   NEAREST_SCH_DIST  YEAR_SOLD  \n",
       "0          0.828339       2018  \n",
       "1          5.524324       2019  "
      ]
     },
     "execution_count": 12,
     "metadata": {},
     "output_type": "execute_result"
    }
   ],
   "source": [
    "# Removing properties which were sold before 2005\n",
    "cleaned_perth_df = cleaned_perth_df.loc[cleaned_perth_df[\"YEAR_SOLD\"] >= 2005]\n",
    "cleaned_perth_df.head(2)"
   ]
  },
  {
   "cell_type": "code",
   "execution_count": 13,
   "metadata": {},
   "outputs": [
    {
     "data": {
      "text/html": [
       "<div>\n",
       "<style scoped>\n",
       "    .dataframe tbody tr th:only-of-type {\n",
       "        vertical-align: middle;\n",
       "    }\n",
       "\n",
       "    .dataframe tbody tr th {\n",
       "        vertical-align: top;\n",
       "    }\n",
       "\n",
       "    .dataframe thead th {\n",
       "        text-align: right;\n",
       "    }\n",
       "</style>\n",
       "<table border=\"1\" class=\"dataframe\">\n",
       "  <thead>\n",
       "    <tr style=\"text-align: right;\">\n",
       "      <th></th>\n",
       "      <th>ADDRESS</th>\n",
       "      <th>SUBURB</th>\n",
       "      <th>PRICE</th>\n",
       "      <th>BEDROOMS</th>\n",
       "      <th>LAND_AREA</th>\n",
       "      <th>BUILD_YEAR</th>\n",
       "      <th>CBD_DIST</th>\n",
       "      <th>NEAREST_STN</th>\n",
       "      <th>NEAREST_STN_DIST</th>\n",
       "      <th>LATITUDE</th>\n",
       "      <th>LONGITUDE</th>\n",
       "      <th>NEAREST_SCH</th>\n",
       "      <th>NEAREST_SCH_DIST</th>\n",
       "      <th>YEAR_SOLD</th>\n",
       "    </tr>\n",
       "  </thead>\n",
       "  <tbody>\n",
       "    <tr>\n",
       "      <th>0</th>\n",
       "      <td>1 Acorn Place, South Lake</td>\n",
       "      <td>South Lake</td>\n",
       "      <td>565000</td>\n",
       "      <td>4</td>\n",
       "      <td>600</td>\n",
       "      <td>2003</td>\n",
       "      <td>18300</td>\n",
       "      <td>Cockburn Central Station</td>\n",
       "      <td>1800</td>\n",
       "      <td>-32.11590</td>\n",
       "      <td>115.842450</td>\n",
       "      <td>LAKELAND SENIOR HIGH SCHOOL</td>\n",
       "      <td>0.828339</td>\n",
       "      <td>2018</td>\n",
       "    </tr>\n",
       "    <tr>\n",
       "      <th>1</th>\n",
       "      <td>1 Addis Way, Wandi</td>\n",
       "      <td>Wandi</td>\n",
       "      <td>365000</td>\n",
       "      <td>3</td>\n",
       "      <td>351</td>\n",
       "      <td>2013</td>\n",
       "      <td>26900</td>\n",
       "      <td>Kwinana Station</td>\n",
       "      <td>4900</td>\n",
       "      <td>-32.19347</td>\n",
       "      <td>115.859553</td>\n",
       "      <td>ATWELL COLLEGE</td>\n",
       "      <td>5.524324</td>\n",
       "      <td>2019</td>\n",
       "    </tr>\n",
       "  </tbody>\n",
       "</table>\n",
       "</div>"
      ],
      "text/plain": [
       "                     ADDRESS      SUBURB   PRICE  BEDROOMS  LAND_AREA  \\\n",
       "0  1 Acorn Place, South Lake  South Lake  565000         4        600   \n",
       "1         1 Addis Way, Wandi       Wandi  365000         3        351   \n",
       "\n",
       "   BUILD_YEAR  CBD_DIST               NEAREST_STN  NEAREST_STN_DIST  LATITUDE  \\\n",
       "0        2003     18300  Cockburn Central Station              1800 -32.11590   \n",
       "1        2013     26900           Kwinana Station              4900 -32.19347   \n",
       "\n",
       "    LONGITUDE                  NEAREST_SCH  NEAREST_SCH_DIST  YEAR_SOLD  \n",
       "0  115.842450  LAKELAND SENIOR HIGH SCHOOL          0.828339       2018  \n",
       "1  115.859553               ATWELL COLLEGE          5.524324       2019  "
      ]
     },
     "execution_count": 13,
     "metadata": {},
     "output_type": "execute_result"
    }
   ],
   "source": [
    "# Remove unwanted column\n",
    "cleaned_perth_df = cleaned_perth_df.drop(columns = [\"DATE_SOLD\"])\n",
    "cleaned_perth_df.head(2)"
   ]
  },
  {
   "cell_type": "code",
   "execution_count": 14,
   "metadata": {},
   "outputs": [],
   "source": [
    "cleaned_perth_df.to_csv(\"csv/cleaned_perth_market.csv\", index=False)"
   ]
  },
  {
   "cell_type": "markdown",
   "metadata": {},
   "source": [
    "# To Create SQL Database"
   ]
  },
  {
   "cell_type": "code",
   "execution_count": 15,
   "metadata": {},
   "outputs": [],
   "source": [
    "# # Create csv files for SQL databases\n",
    "# address_suburb_df = cleaned_perth_df[[\"ADDRESS\",\"SUBURB\"]]\n",
    "# address_suburb_df.to_csv(\"csv/address_suburb.csv\", index=False)\n",
    "\n",
    "# address_price_df = cleaned_perth_df[[\"ADDRESS\",\"PRICE\"]]\n",
    "# address_price_df.to_csv(\"csv/address_price.csv\", index=False)\n",
    "\n",
    "# address_bedrooms_df = cleaned_perth_df[[\"ADDRESS\",\"BEDROOMS\"]]\n",
    "# address_bedrooms_df.to_csv(\"csv/address_bedrooms.csv\", index=False)\n",
    "\n",
    "# address_land_df = cleaned_perth_df[[\"ADDRESS\",\"LAND_AREA\"]]\n",
    "# address_land_df.to_csv(\"csv/address_land.csv\", index=False)\n",
    "\n",
    "# address_buildYear_df = cleaned_perth_df[[\"ADDRESS\",\"BUILD_YEAR\"]]\n",
    "# address_buildYear_df.to_csv(\"csv/address_buildYear.csv\", index=False)\n",
    "\n",
    "# address_cbdDist_df = cleaned_perth_df[[\"ADDRESS\",\"CBD_DIST\"]]\n",
    "# address_cbdDist_df.to_csv(\"csv/address_cbdDist.csv\", index=False)\n",
    "\n",
    "# address_latitude_df = cleaned_perth_df[[\"ADDRESS\",\"LATITUDE\"]]\n",
    "# address_latitude_df.to_csv(\"csv/address_latitude.csv\", index=False)\n",
    "\n",
    "# address_longitude_df = cleaned_perth_df[[\"ADDRESS\",\"LONGITUDE\"]]\n",
    "# address_longitude_df.to_csv(\"csv/address_longitude.csv\", index=False)\n",
    "\n",
    "# address_nearestSchool_df = cleaned_perth_df[[\"ADDRESS\",\"NEAREST_SCH\"]]\n",
    "# address_nearestSchool_df.to_csv(\"csv/address_nearestSchool.csv\", index=False)\n",
    "\n",
    "# address_nearestSchoolDist_df = cleaned_perth_df[[\"ADDRESS\",\"NEAREST_SCH_DIST\"]]\n",
    "# address_nearestSchoolDist_df.to_csv(\"csv/address_nearestSchoolDist.csv\", index=False)\n",
    "\n",
    "# address_nearestStation_df = cleaned_perth_df[[\"ADDRESS\",\"NEAREST_STN\"]]\n",
    "# address_nearestStation_df.to_csv(\"csv/address_nearestStation.csv\", index=False)\n",
    "\n",
    "# address_nearestStationDist_df = cleaned_perth_df[[\"ADDRESS\",\"NEAREST_STN_DIST\"]]\n",
    "# address_nearestStationDist_df.to_csv(\"csv/address_nearestStationDist.csv\", index=False)\n",
    "\n",
    "# address_yearSold_df = cleaned_perth_df[[\"ADDRESS\",\"YEAR_SOLD\"]]\n",
    "# address_yearSold_df.to_csv(\"csv/address_yearSold.csv\", index=False)"
   ]
  },
  {
   "cell_type": "code",
   "execution_count": 16,
   "metadata": {},
   "outputs": [],
   "source": [
    "# bedroom_df = cleaned_perth_df.loc[cleaned_perth_df[\"BEDROOMS\"]== 4]\n",
    "# bedroom_df[\"YEAR_SOLD\"] = bedroom_df[\"YEAR_SOLD\"].astype(int)\n",
    "# # bedroom_df[\"YEAR_SOLD\"].hist(bins = 1, range=[2000, 2010], grid=False)\n",
    "# plt.hist(bedroom_df[\"YEAR_SOLD\"])"
   ]
  },
  {
   "cell_type": "code",
   "execution_count": 17,
   "metadata": {},
   "outputs": [],
   "source": [
    "# cleaned_perth_df[\"LAND_AREA\"].hist(bins = 30, range=[10, 1500], grid=False)\n"
   ]
  },
  {
   "cell_type": "code",
   "execution_count": 18,
   "metadata": {},
   "outputs": [],
   "source": [
    "# plt.scatter(cleaned_perth_df[\"CBD_DIST\"], cleaned_perth_df[\"LAND_AREA\"])"
   ]
  },
  {
   "cell_type": "code",
   "execution_count": 19,
   "metadata": {},
   "outputs": [],
   "source": [
    "# cleaned_perth_df[\"NEAREST_STN\"].value_counts().head(10)"
   ]
  },
  {
   "cell_type": "markdown",
   "metadata": {},
   "source": [
    "# Correlation"
   ]
  },
  {
   "cell_type": "code",
   "execution_count": 20,
   "metadata": {},
   "outputs": [],
   "source": [
    "# midland = cleaned_perth_df.loc[cleaned_perth_df[\"NEAREST_STN\"] == \"Midland Station\"]\n",
    "# midland_price = midland[\"PRICE\"] / midland[\"LAND_AREA\"]\n",
    "# midland_price"
   ]
  },
  {
   "cell_type": "code",
   "execution_count": 21,
   "metadata": {},
   "outputs": [],
   "source": [
    "# # Price vs. Midland Station distance\n",
    "# stats.pearsonr(midland_price,midland[\"NEAREST_STN_DIST\"])"
   ]
  },
  {
   "cell_type": "code",
   "execution_count": 22,
   "metadata": {},
   "outputs": [],
   "source": [
    "# # Price vs. Station distance\n",
    "# stats.pearsonr(cleaned_perth_df[\"PRICE\"],cleaned_perth_df[\"NEAREST_STN_DIST\"])"
   ]
  },
  {
   "cell_type": "code",
   "execution_count": 23,
   "metadata": {},
   "outputs": [],
   "source": [
    "# # Price vs. School distance\n",
    "# stats.pearsonr(cleaned_perth_df[\"PRICE\"],cleaned_perth_df[\"NEAREST_SCH_DIST\"])"
   ]
  },
  {
   "cell_type": "code",
   "execution_count": 24,
   "metadata": {},
   "outputs": [],
   "source": [
    "# # Price vs. School distance\n",
    "# stats.pearsonr(cleaned_perth_df[\"PRICE\"],cleaned_perth_df[\"CBD_DIST\"])"
   ]
  },
  {
   "cell_type": "markdown",
   "metadata": {},
   "source": [
    "# Connect to SQL"
   ]
  },
  {
   "cell_type": "code",
   "execution_count": 25,
   "metadata": {},
   "outputs": [],
   "source": [
    "# # Python SQL toolkit and Object Relational Mapper\n",
    "# import sqlalchemy\n",
    "# from sqlalchemy.ext.automap import automap_base\n",
    "# from sqlalchemy.orm import Session\n",
    "# from sqlalchemy import create_engine, func"
   ]
  },
  {
   "cell_type": "code",
   "execution_count": 26,
   "metadata": {},
   "outputs": [],
   "source": [
    "from config import password"
   ]
  },
  {
   "cell_type": "code",
   "execution_count": 27,
   "metadata": {},
   "outputs": [],
   "source": [
    "# Create the Database Engine - local server, the connection string will be as follows:\n",
    "# connection_string  = f\"postgres:{password}@127.0.0.1:5432/Project_2\"\n",
    "    \n",
    "# # Create the database engine (to the PostgreSQL database)\n",
    "# engine = create_engine(f'postgresql://{connection_string}') \n",
    "# conn = engine.connect()"
   ]
  },
  {
   "cell_type": "code",
   "execution_count": 28,
   "metadata": {},
   "outputs": [],
   "source": [
    "# # Query All Records in the the Database\n",
    "# data = engine.execute(\"SELECT * FROM address_price\")\n",
    "\n",
    "# for record in data:\n",
    "#     print(record)"
   ]
  },
  {
   "cell_type": "code",
   "execution_count": 29,
   "metadata": {},
   "outputs": [],
   "source": [
    "# # reflect an existing database into a new model\n",
    "# Base = automap_base()\n",
    "\n",
    "# # reflect the tables\n",
    "# Base.prepare(engine,reflect=True)"
   ]
  },
  {
   "cell_type": "code",
   "execution_count": 30,
   "metadata": {},
   "outputs": [],
   "source": [
    "# # We can view all of the classes that automap found\n",
    "# Base.classes.keys()"
   ]
  },
  {
   "cell_type": "code",
   "execution_count": 31,
   "metadata": {},
   "outputs": [],
   "source": [
    "# # Save references to each table\n",
    "# suburb = Base.classes.address_suburb\n"
   ]
  },
  {
   "cell_type": "code",
   "execution_count": null,
   "metadata": {},
   "outputs": [],
   "source": [
    "# # Create our session (link) from Python to the DB\n",
    "# session = Session(bind=engine)"
   ]
  },
  {
   "cell_type": "code",
   "execution_count": null,
   "metadata": {},
   "outputs": [],
   "source": [
    "# session.query(suburb).first().__dict__"
   ]
  },
  {
   "cell_type": "code",
   "execution_count": null,
   "metadata": {},
   "outputs": [],
   "source": [
    "# suburb_first_row = session.query(suburb.address, suburb.suburb).all()\n",
    "# suburb_first_row"
   ]
  },
  {
   "cell_type": "code",
   "execution_count": null,
   "metadata": {},
   "outputs": [],
   "source": [
    "# suburb_list=[]\n",
    "# for row in suburb_first_row:\n",
    "#     stn_result = list(np.ravel(row))\n",
    "#     stn_dict = {\"Station\": stn_result[0], \"Name\":stn_result[1]}\n",
    "#     suburb_list.append(stn_dict)\n",
    "# suburb_list"
   ]
  }
 ],
 "metadata": {
  "interpreter": {
   "hash": "0b4f2527d7d2df3f966db050fbea417d67b834030558d4d126ba89140d54f62d"
  },
  "kernelspec": {
   "display_name": "Python 3.6.13 64-bit ('pythondata': conda)",
   "name": "python3"
  },
  "language_info": {
   "codemirror_mode": {
    "name": "ipython",
    "version": 3
   },
   "file_extension": ".py",
   "mimetype": "text/x-python",
   "name": "python",
   "nbconvert_exporter": "python",
   "pygments_lexer": "ipython3",
   "version": "3.6.13"
  },
  "orig_nbformat": 4
 },
 "nbformat": 4,
 "nbformat_minor": 2
}
