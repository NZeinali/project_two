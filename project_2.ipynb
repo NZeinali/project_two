{
 "cells": [
  {
   "cell_type": "code",
   "execution_count": 2,
   "source": [
    "import pandas as pd\r\n",
    "from sqlalchemy import create_engine\r\n",
    "from config import password\r\n",
    "import numpy as np\r\n",
    "import matplotlib.pyplot as plt\r\n"
   ],
   "outputs": [],
   "metadata": {}
  },
  {
   "cell_type": "markdown",
   "source": [
    "# Import Data"
   ],
   "metadata": {}
  },
  {
   "cell_type": "code",
   "execution_count": 3,
   "source": [
    "csv_path = \"../perth_market.csv\"\r\n",
    "perth_df = pd.read_csv(csv_path)\r\n",
    "perth_df.head(2)"
   ],
   "outputs": [
    {
     "output_type": "execute_result",
     "data": {
      "text/html": [
       "<div>\n",
       "<style scoped>\n",
       "    .dataframe tbody tr th:only-of-type {\n",
       "        vertical-align: middle;\n",
       "    }\n",
       "\n",
       "    .dataframe tbody tr th {\n",
       "        vertical-align: top;\n",
       "    }\n",
       "\n",
       "    .dataframe thead th {\n",
       "        text-align: right;\n",
       "    }\n",
       "</style>\n",
       "<table border=\"1\" class=\"dataframe\">\n",
       "  <thead>\n",
       "    <tr style=\"text-align: right;\">\n",
       "      <th></th>\n",
       "      <th>ADDRESS</th>\n",
       "      <th>SUBURB</th>\n",
       "      <th>PRICE</th>\n",
       "      <th>BEDROOMS</th>\n",
       "      <th>BATHROOMS</th>\n",
       "      <th>GARAGE</th>\n",
       "      <th>LAND_AREA</th>\n",
       "      <th>FLOOR_AREA</th>\n",
       "      <th>BUILD_YEAR</th>\n",
       "      <th>CBD_DIST</th>\n",
       "      <th>NEAREST_STN</th>\n",
       "      <th>NEAREST_STN_DIST</th>\n",
       "      <th>DATE_SOLD</th>\n",
       "      <th>POSTCODE</th>\n",
       "      <th>LATITUDE</th>\n",
       "      <th>LONGITUDE</th>\n",
       "      <th>NEAREST_SCH</th>\n",
       "      <th>NEAREST_SCH_DIST</th>\n",
       "      <th>NEAREST_SCH_RANK</th>\n",
       "    </tr>\n",
       "  </thead>\n",
       "  <tbody>\n",
       "    <tr>\n",
       "      <th>0</th>\n",
       "      <td>1 Acorn Place</td>\n",
       "      <td>South Lake</td>\n",
       "      <td>565000</td>\n",
       "      <td>4</td>\n",
       "      <td>2</td>\n",
       "      <td>2.0</td>\n",
       "      <td>600</td>\n",
       "      <td>160</td>\n",
       "      <td>2003.0</td>\n",
       "      <td>18300</td>\n",
       "      <td>Cockburn Central Station</td>\n",
       "      <td>1800</td>\n",
       "      <td>09-2018\\r</td>\n",
       "      <td>6164</td>\n",
       "      <td>-32.11590</td>\n",
       "      <td>115.842450</td>\n",
       "      <td>LAKELAND SENIOR HIGH SCHOOL</td>\n",
       "      <td>0.828339</td>\n",
       "      <td>NaN</td>\n",
       "    </tr>\n",
       "    <tr>\n",
       "      <th>1</th>\n",
       "      <td>1 Addis Way</td>\n",
       "      <td>Wandi</td>\n",
       "      <td>365000</td>\n",
       "      <td>3</td>\n",
       "      <td>2</td>\n",
       "      <td>2.0</td>\n",
       "      <td>351</td>\n",
       "      <td>139</td>\n",
       "      <td>2013.0</td>\n",
       "      <td>26900</td>\n",
       "      <td>Kwinana Station</td>\n",
       "      <td>4900</td>\n",
       "      <td>02-2019\\r</td>\n",
       "      <td>6167</td>\n",
       "      <td>-32.19347</td>\n",
       "      <td>115.859553</td>\n",
       "      <td>ATWELL COLLEGE</td>\n",
       "      <td>5.524324</td>\n",
       "      <td>129.0</td>\n",
       "    </tr>\n",
       "  </tbody>\n",
       "</table>\n",
       "</div>"
      ],
      "text/plain": [
       "         ADDRESS      SUBURB   PRICE  BEDROOMS  BATHROOMS  GARAGE  LAND_AREA  \\\n",
       "0  1 Acorn Place  South Lake  565000         4          2     2.0        600   \n",
       "1    1 Addis Way       Wandi  365000         3          2     2.0        351   \n",
       "\n",
       "   FLOOR_AREA  BUILD_YEAR  CBD_DIST               NEAREST_STN  \\\n",
       "0         160      2003.0     18300  Cockburn Central Station   \n",
       "1         139      2013.0     26900           Kwinana Station   \n",
       "\n",
       "   NEAREST_STN_DIST  DATE_SOLD  POSTCODE  LATITUDE   LONGITUDE  \\\n",
       "0              1800  09-2018\\r      6164 -32.11590  115.842450   \n",
       "1              4900  02-2019\\r      6167 -32.19347  115.859553   \n",
       "\n",
       "                   NEAREST_SCH  NEAREST_SCH_DIST  NEAREST_SCH_RANK  \n",
       "0  LAKELAND SENIOR HIGH SCHOOL          0.828339               NaN  \n",
       "1               ATWELL COLLEGE          5.524324             129.0  "
      ]
     },
     "metadata": {},
     "execution_count": 3
    }
   ],
   "metadata": {}
  },
  {
   "cell_type": "code",
   "execution_count": 4,
   "source": [
    "# Removing unwanted columns\r\n",
    "cleaned_perth_df = perth_df.drop(columns = [\"BATHROOMS\",\"GARAGE\",\"FLOOR_AREA\",\"POSTCODE\",\"NEAREST_SCH_RANK\"])\r\n",
    "\r\n",
    "cleaned_perth_df.info()"
   ],
   "outputs": [
    {
     "output_type": "stream",
     "name": "stdout",
     "text": [
      "<class 'pandas.core.frame.DataFrame'>\n",
      "RangeIndex: 33656 entries, 0 to 33655\n",
      "Data columns (total 14 columns):\n",
      " #   Column            Non-Null Count  Dtype  \n",
      "---  ------            --------------  -----  \n",
      " 0   ADDRESS           33656 non-null  object \n",
      " 1   SUBURB            33656 non-null  object \n",
      " 2   PRICE             33656 non-null  int64  \n",
      " 3   BEDROOMS          33656 non-null  int64  \n",
      " 4   LAND_AREA         33656 non-null  int64  \n",
      " 5   BUILD_YEAR        30501 non-null  float64\n",
      " 6   CBD_DIST          33656 non-null  int64  \n",
      " 7   NEAREST_STN       33656 non-null  object \n",
      " 8   NEAREST_STN_DIST  33656 non-null  int64  \n",
      " 9   DATE_SOLD         33656 non-null  object \n",
      " 10  LATITUDE          33656 non-null  float64\n",
      " 11  LONGITUDE         33656 non-null  float64\n",
      " 12  NEAREST_SCH       33656 non-null  object \n",
      " 13  NEAREST_SCH_DIST  33656 non-null  float64\n",
      "dtypes: float64(4), int64(5), object(5)\n",
      "memory usage: 3.6+ MB\n"
     ]
    }
   ],
   "metadata": {}
  },
  {
   "cell_type": "code",
   "execution_count": 5,
   "source": [
    "# Convert ADDRESS to FULL ADDRESS which includes the Suburb to get unique adress of sold properties\r\n",
    "cleaned_perth_df[\"ADDRESS\"] = cleaned_perth_df[[\"ADDRESS\",\"SUBURB\"]].apply(lambda x: ', '.join(x[x.notnull()]), axis = 1)\r\n",
    "\r\n",
    "cleaned_perth_df[\"ADDRESS\"]"
   ],
   "outputs": [
    {
     "output_type": "execute_result",
     "data": {
      "text/plain": [
       "0              1 Acorn Place, South Lake\n",
       "1                     1 Addis Way, Wandi\n",
       "2               1 Ainsley Court, Camillo\n",
       "3              1 Albert Street, Bellevue\n",
       "4                1 Aman Place, Lockridge\n",
       "                      ...               \n",
       "33651    9C Gold Street, South Fremantle\n",
       "33652        9C Pycombe Way, Westminster\n",
       "33653        9D Pycombe Way, Westminster\n",
       "33654        9D Shalford Way, Girrawheen\n",
       "33655        9E Margaret Street, Midland\n",
       "Name: ADDRESS, Length: 33656, dtype: object"
      ]
     },
     "metadata": {},
     "execution_count": 5
    }
   ],
   "metadata": {}
  },
  {
   "cell_type": "code",
   "execution_count": 6,
   "source": [
    "# Display duplicate addresses\r\n",
    "full_address = cleaned_perth_df[\"ADDRESS\"]\r\n",
    "cleaned_perth_df[full_address.isin(full_address[full_address.duplicated()])]"
   ],
   "outputs": [
    {
     "output_type": "execute_result",
     "data": {
      "text/html": [
       "<div>\n",
       "<style scoped>\n",
       "    .dataframe tbody tr th:only-of-type {\n",
       "        vertical-align: middle;\n",
       "    }\n",
       "\n",
       "    .dataframe tbody tr th {\n",
       "        vertical-align: top;\n",
       "    }\n",
       "\n",
       "    .dataframe thead th {\n",
       "        text-align: right;\n",
       "    }\n",
       "</style>\n",
       "<table border=\"1\" class=\"dataframe\">\n",
       "  <thead>\n",
       "    <tr style=\"text-align: right;\">\n",
       "      <th></th>\n",
       "      <th>ADDRESS</th>\n",
       "      <th>SUBURB</th>\n",
       "      <th>PRICE</th>\n",
       "      <th>BEDROOMS</th>\n",
       "      <th>LAND_AREA</th>\n",
       "      <th>BUILD_YEAR</th>\n",
       "      <th>CBD_DIST</th>\n",
       "      <th>NEAREST_STN</th>\n",
       "      <th>NEAREST_STN_DIST</th>\n",
       "      <th>DATE_SOLD</th>\n",
       "      <th>LATITUDE</th>\n",
       "      <th>LONGITUDE</th>\n",
       "      <th>NEAREST_SCH</th>\n",
       "      <th>NEAREST_SCH_DIST</th>\n",
       "    </tr>\n",
       "  </thead>\n",
       "  <tbody>\n",
       "    <tr>\n",
       "      <th>4149</th>\n",
       "      <td>123 Fairway, Crawley</td>\n",
       "      <td>Crawley</td>\n",
       "      <td>818000</td>\n",
       "      <td>4</td>\n",
       "      <td>160</td>\n",
       "      <td>NaN</td>\n",
       "      <td>5500</td>\n",
       "      <td>Daglish Station</td>\n",
       "      <td>3700</td>\n",
       "      <td>02-2018\\r</td>\n",
       "      <td>-31.985151</td>\n",
       "      <td>115.815463</td>\n",
       "      <td>SHENTON COLLEGE</td>\n",
       "      <td>3.065177</td>\n",
       "    </tr>\n",
       "    <tr>\n",
       "      <th>4150</th>\n",
       "      <td>123 Fairway, Crawley</td>\n",
       "      <td>Crawley</td>\n",
       "      <td>818000</td>\n",
       "      <td>4</td>\n",
       "      <td>160</td>\n",
       "      <td>NaN</td>\n",
       "      <td>5500</td>\n",
       "      <td>Daglish Station</td>\n",
       "      <td>3700</td>\n",
       "      <td>02-2018\\r</td>\n",
       "      <td>-31.985152</td>\n",
       "      <td>115.815314</td>\n",
       "      <td>SHENTON COLLEGE</td>\n",
       "      <td>3.059929</td>\n",
       "    </tr>\n",
       "    <tr>\n",
       "      <th>4151</th>\n",
       "      <td>123 Fairway, Crawley</td>\n",
       "      <td>Crawley</td>\n",
       "      <td>818000</td>\n",
       "      <td>4</td>\n",
       "      <td>160</td>\n",
       "      <td>NaN</td>\n",
       "      <td>5500</td>\n",
       "      <td>Daglish Station</td>\n",
       "      <td>3700</td>\n",
       "      <td>02-2018\\r</td>\n",
       "      <td>-31.985133</td>\n",
       "      <td>115.815176</td>\n",
       "      <td>SHENTON COLLEGE</td>\n",
       "      <td>3.053099</td>\n",
       "    </tr>\n",
       "    <tr>\n",
       "      <th>20655</th>\n",
       "      <td>4 Carmel Road, Carmel</td>\n",
       "      <td>Carmel</td>\n",
       "      <td>955000</td>\n",
       "      <td>4</td>\n",
       "      <td>15761</td>\n",
       "      <td>2009.0</td>\n",
       "      <td>21700</td>\n",
       "      <td>Madding</td>\n",
       "      <td>9300</td>\n",
       "      <td>09-2013\\r</td>\n",
       "      <td>-32.019395</td>\n",
       "      <td>116.074759</td>\n",
       "      <td>CARMEL ADVENTIST COLLEGE</td>\n",
       "      <td>1.890651</td>\n",
       "    </tr>\n",
       "    <tr>\n",
       "      <th>20656</th>\n",
       "      <td>4 Carmel Road, Carmel</td>\n",
       "      <td>Carmel</td>\n",
       "      <td>955000</td>\n",
       "      <td>4</td>\n",
       "      <td>15761</td>\n",
       "      <td>2009.0</td>\n",
       "      <td>21700</td>\n",
       "      <td>Madding</td>\n",
       "      <td>9300</td>\n",
       "      <td>09-2013\\r</td>\n",
       "      <td>-32.019657</td>\n",
       "      <td>116.096652</td>\n",
       "      <td>CARMEL ADVENTIST COLLEGE</td>\n",
       "      <td>0.600853</td>\n",
       "    </tr>\n",
       "  </tbody>\n",
       "</table>\n",
       "</div>"
      ],
      "text/plain": [
       "                     ADDRESS   SUBURB   PRICE  BEDROOMS  LAND_AREA  \\\n",
       "4149    123 Fairway, Crawley  Crawley  818000         4        160   \n",
       "4150    123 Fairway, Crawley  Crawley  818000         4        160   \n",
       "4151    123 Fairway, Crawley  Crawley  818000         4        160   \n",
       "20655  4 Carmel Road, Carmel   Carmel  955000         4      15761   \n",
       "20656  4 Carmel Road, Carmel   Carmel  955000         4      15761   \n",
       "\n",
       "       BUILD_YEAR  CBD_DIST      NEAREST_STN  NEAREST_STN_DIST  DATE_SOLD  \\\n",
       "4149          NaN      5500  Daglish Station              3700  02-2018\\r   \n",
       "4150          NaN      5500  Daglish Station              3700  02-2018\\r   \n",
       "4151          NaN      5500  Daglish Station              3700  02-2018\\r   \n",
       "20655      2009.0     21700          Madding              9300  09-2013\\r   \n",
       "20656      2009.0     21700          Madding              9300  09-2013\\r   \n",
       "\n",
       "        LATITUDE   LONGITUDE               NEAREST_SCH  NEAREST_SCH_DIST  \n",
       "4149  -31.985151  115.815463           SHENTON COLLEGE          3.065177  \n",
       "4150  -31.985152  115.815314           SHENTON COLLEGE          3.059929  \n",
       "4151  -31.985133  115.815176           SHENTON COLLEGE          3.053099  \n",
       "20655 -32.019395  116.074759  CARMEL ADVENTIST COLLEGE          1.890651  \n",
       "20656 -32.019657  116.096652  CARMEL ADVENTIST COLLEGE          0.600853  "
      ]
     },
     "metadata": {},
     "execution_count": 6
    }
   ],
   "metadata": {}
  },
  {
   "cell_type": "code",
   "execution_count": 7,
   "source": [
    "# Drop duplicate data\r\n",
    "cleaned_perth_df.drop_duplicates(subset=[\"ADDRESS\"], keep=\"last\", inplace=True)\r\n",
    "cleaned_perth_df.info()"
   ],
   "outputs": [
    {
     "output_type": "stream",
     "name": "stdout",
     "text": [
      "<class 'pandas.core.frame.DataFrame'>\n",
      "Int64Index: 33653 entries, 0 to 33655\n",
      "Data columns (total 14 columns):\n",
      " #   Column            Non-Null Count  Dtype  \n",
      "---  ------            --------------  -----  \n",
      " 0   ADDRESS           33653 non-null  object \n",
      " 1   SUBURB            33653 non-null  object \n",
      " 2   PRICE             33653 non-null  int64  \n",
      " 3   BEDROOMS          33653 non-null  int64  \n",
      " 4   LAND_AREA         33653 non-null  int64  \n",
      " 5   BUILD_YEAR        30500 non-null  float64\n",
      " 6   CBD_DIST          33653 non-null  int64  \n",
      " 7   NEAREST_STN       33653 non-null  object \n",
      " 8   NEAREST_STN_DIST  33653 non-null  int64  \n",
      " 9   DATE_SOLD         33653 non-null  object \n",
      " 10  LATITUDE          33653 non-null  float64\n",
      " 11  LONGITUDE         33653 non-null  float64\n",
      " 12  NEAREST_SCH       33653 non-null  object \n",
      " 13  NEAREST_SCH_DIST  33653 non-null  float64\n",
      "dtypes: float64(4), int64(5), object(5)\n",
      "memory usage: 3.9+ MB\n"
     ]
    }
   ],
   "metadata": {}
  },
  {
   "cell_type": "code",
   "execution_count": 8,
   "source": [
    "# Removing properties with land areas over 2500 sqm\r\n",
    "cleaned_perth_df = cleaned_perth_df.loc[cleaned_perth_df[\"LAND_AREA\"] <= 2500]\r\n",
    "cleaned_perth_df.head(2)"
   ],
   "outputs": [
    {
     "output_type": "execute_result",
     "data": {
      "text/html": [
       "<div>\n",
       "<style scoped>\n",
       "    .dataframe tbody tr th:only-of-type {\n",
       "        vertical-align: middle;\n",
       "    }\n",
       "\n",
       "    .dataframe tbody tr th {\n",
       "        vertical-align: top;\n",
       "    }\n",
       "\n",
       "    .dataframe thead th {\n",
       "        text-align: right;\n",
       "    }\n",
       "</style>\n",
       "<table border=\"1\" class=\"dataframe\">\n",
       "  <thead>\n",
       "    <tr style=\"text-align: right;\">\n",
       "      <th></th>\n",
       "      <th>ADDRESS</th>\n",
       "      <th>SUBURB</th>\n",
       "      <th>PRICE</th>\n",
       "      <th>BEDROOMS</th>\n",
       "      <th>LAND_AREA</th>\n",
       "      <th>BUILD_YEAR</th>\n",
       "      <th>CBD_DIST</th>\n",
       "      <th>NEAREST_STN</th>\n",
       "      <th>NEAREST_STN_DIST</th>\n",
       "      <th>DATE_SOLD</th>\n",
       "      <th>LATITUDE</th>\n",
       "      <th>LONGITUDE</th>\n",
       "      <th>NEAREST_SCH</th>\n",
       "      <th>NEAREST_SCH_DIST</th>\n",
       "    </tr>\n",
       "  </thead>\n",
       "  <tbody>\n",
       "    <tr>\n",
       "      <th>0</th>\n",
       "      <td>1 Acorn Place, South Lake</td>\n",
       "      <td>South Lake</td>\n",
       "      <td>565000</td>\n",
       "      <td>4</td>\n",
       "      <td>600</td>\n",
       "      <td>2003.0</td>\n",
       "      <td>18300</td>\n",
       "      <td>Cockburn Central Station</td>\n",
       "      <td>1800</td>\n",
       "      <td>09-2018\\r</td>\n",
       "      <td>-32.11590</td>\n",
       "      <td>115.842450</td>\n",
       "      <td>LAKELAND SENIOR HIGH SCHOOL</td>\n",
       "      <td>0.828339</td>\n",
       "    </tr>\n",
       "    <tr>\n",
       "      <th>1</th>\n",
       "      <td>1 Addis Way, Wandi</td>\n",
       "      <td>Wandi</td>\n",
       "      <td>365000</td>\n",
       "      <td>3</td>\n",
       "      <td>351</td>\n",
       "      <td>2013.0</td>\n",
       "      <td>26900</td>\n",
       "      <td>Kwinana Station</td>\n",
       "      <td>4900</td>\n",
       "      <td>02-2019\\r</td>\n",
       "      <td>-32.19347</td>\n",
       "      <td>115.859553</td>\n",
       "      <td>ATWELL COLLEGE</td>\n",
       "      <td>5.524324</td>\n",
       "    </tr>\n",
       "  </tbody>\n",
       "</table>\n",
       "</div>"
      ],
      "text/plain": [
       "                     ADDRESS      SUBURB   PRICE  BEDROOMS  LAND_AREA  \\\n",
       "0  1 Acorn Place, South Lake  South Lake  565000         4        600   \n",
       "1         1 Addis Way, Wandi       Wandi  365000         3        351   \n",
       "\n",
       "   BUILD_YEAR  CBD_DIST               NEAREST_STN  NEAREST_STN_DIST  \\\n",
       "0      2003.0     18300  Cockburn Central Station              1800   \n",
       "1      2013.0     26900           Kwinana Station              4900   \n",
       "\n",
       "   DATE_SOLD  LATITUDE   LONGITUDE                  NEAREST_SCH  \\\n",
       "0  09-2018\\r -32.11590  115.842450  LAKELAND SENIOR HIGH SCHOOL   \n",
       "1  02-2019\\r -32.19347  115.859553               ATWELL COLLEGE   \n",
       "\n",
       "   NEAREST_SCH_DIST  \n",
       "0          0.828339  \n",
       "1          5.524324  "
      ]
     },
     "metadata": {},
     "execution_count": 8
    }
   ],
   "metadata": {}
  },
  {
   "cell_type": "code",
   "execution_count": 9,
   "source": [
    "# Split DATE_SOLD data from MM-YYYY to only get the year part\r\n",
    "date_splited = cleaned_perth_df[\"DATE_SOLD\"].str.rsplit('-')\r\n",
    "\r\n",
    "year = []\r\n",
    "for date in date_splited:\r\n",
    "    year.append(date[1])\r\n",
    "\r\n",
    "cleaned_perth_df[\"YEAR_SOLD\"] = year\r\n",
    "cleaned_perth_df[\"YEAR_SOLD\"] = cleaned_perth_df[\"YEAR_SOLD\"].astype(int)\r\n",
    "cleaned_perth_df.info()"
   ],
   "outputs": [
    {
     "output_type": "stream",
     "name": "stdout",
     "text": [
      "<class 'pandas.core.frame.DataFrame'>\n",
      "Int64Index: 30468 entries, 0 to 33655\n",
      "Data columns (total 15 columns):\n",
      " #   Column            Non-Null Count  Dtype  \n",
      "---  ------            --------------  -----  \n",
      " 0   ADDRESS           30468 non-null  object \n",
      " 1   SUBURB            30468 non-null  object \n",
      " 2   PRICE             30468 non-null  int64  \n",
      " 3   BEDROOMS          30468 non-null  int64  \n",
      " 4   LAND_AREA         30468 non-null  int64  \n",
      " 5   BUILD_YEAR        27724 non-null  float64\n",
      " 6   CBD_DIST          30468 non-null  int64  \n",
      " 7   NEAREST_STN       30468 non-null  object \n",
      " 8   NEAREST_STN_DIST  30468 non-null  int64  \n",
      " 9   DATE_SOLD         30468 non-null  object \n",
      " 10  LATITUDE          30468 non-null  float64\n",
      " 11  LONGITUDE         30468 non-null  float64\n",
      " 12  NEAREST_SCH       30468 non-null  object \n",
      " 13  NEAREST_SCH_DIST  30468 non-null  float64\n",
      " 14  YEAR_SOLD         30468 non-null  int32  \n",
      "dtypes: float64(4), int32(1), int64(5), object(5)\n",
      "memory usage: 3.6+ MB\n"
     ]
    }
   ],
   "metadata": {}
  },
  {
   "cell_type": "code",
   "execution_count": 10,
   "source": [
    "# Removing properties which were sold before 2005\r\n",
    "cleaned_perth_df = cleaned_perth_df.loc[cleaned_perth_df[\"YEAR_SOLD\"] >= 2005]\r\n",
    "cleaned_perth_df.head(2)"
   ],
   "outputs": [
    {
     "output_type": "execute_result",
     "data": {
      "text/html": [
       "<div>\n",
       "<style scoped>\n",
       "    .dataframe tbody tr th:only-of-type {\n",
       "        vertical-align: middle;\n",
       "    }\n",
       "\n",
       "    .dataframe tbody tr th {\n",
       "        vertical-align: top;\n",
       "    }\n",
       "\n",
       "    .dataframe thead th {\n",
       "        text-align: right;\n",
       "    }\n",
       "</style>\n",
       "<table border=\"1\" class=\"dataframe\">\n",
       "  <thead>\n",
       "    <tr style=\"text-align: right;\">\n",
       "      <th></th>\n",
       "      <th>ADDRESS</th>\n",
       "      <th>SUBURB</th>\n",
       "      <th>PRICE</th>\n",
       "      <th>BEDROOMS</th>\n",
       "      <th>LAND_AREA</th>\n",
       "      <th>BUILD_YEAR</th>\n",
       "      <th>CBD_DIST</th>\n",
       "      <th>NEAREST_STN</th>\n",
       "      <th>NEAREST_STN_DIST</th>\n",
       "      <th>DATE_SOLD</th>\n",
       "      <th>LATITUDE</th>\n",
       "      <th>LONGITUDE</th>\n",
       "      <th>NEAREST_SCH</th>\n",
       "      <th>NEAREST_SCH_DIST</th>\n",
       "      <th>YEAR_SOLD</th>\n",
       "    </tr>\n",
       "  </thead>\n",
       "  <tbody>\n",
       "    <tr>\n",
       "      <th>0</th>\n",
       "      <td>1 Acorn Place, South Lake</td>\n",
       "      <td>South Lake</td>\n",
       "      <td>565000</td>\n",
       "      <td>4</td>\n",
       "      <td>600</td>\n",
       "      <td>2003.0</td>\n",
       "      <td>18300</td>\n",
       "      <td>Cockburn Central Station</td>\n",
       "      <td>1800</td>\n",
       "      <td>09-2018\\r</td>\n",
       "      <td>-32.11590</td>\n",
       "      <td>115.842450</td>\n",
       "      <td>LAKELAND SENIOR HIGH SCHOOL</td>\n",
       "      <td>0.828339</td>\n",
       "      <td>2018</td>\n",
       "    </tr>\n",
       "    <tr>\n",
       "      <th>1</th>\n",
       "      <td>1 Addis Way, Wandi</td>\n",
       "      <td>Wandi</td>\n",
       "      <td>365000</td>\n",
       "      <td>3</td>\n",
       "      <td>351</td>\n",
       "      <td>2013.0</td>\n",
       "      <td>26900</td>\n",
       "      <td>Kwinana Station</td>\n",
       "      <td>4900</td>\n",
       "      <td>02-2019\\r</td>\n",
       "      <td>-32.19347</td>\n",
       "      <td>115.859553</td>\n",
       "      <td>ATWELL COLLEGE</td>\n",
       "      <td>5.524324</td>\n",
       "      <td>2019</td>\n",
       "    </tr>\n",
       "  </tbody>\n",
       "</table>\n",
       "</div>"
      ],
      "text/plain": [
       "                     ADDRESS      SUBURB   PRICE  BEDROOMS  LAND_AREA  \\\n",
       "0  1 Acorn Place, South Lake  South Lake  565000         4        600   \n",
       "1         1 Addis Way, Wandi       Wandi  365000         3        351   \n",
       "\n",
       "   BUILD_YEAR  CBD_DIST               NEAREST_STN  NEAREST_STN_DIST  \\\n",
       "0      2003.0     18300  Cockburn Central Station              1800   \n",
       "1      2013.0     26900           Kwinana Station              4900   \n",
       "\n",
       "   DATE_SOLD  LATITUDE   LONGITUDE                  NEAREST_SCH  \\\n",
       "0  09-2018\\r -32.11590  115.842450  LAKELAND SENIOR HIGH SCHOOL   \n",
       "1  02-2019\\r -32.19347  115.859553               ATWELL COLLEGE   \n",
       "\n",
       "   NEAREST_SCH_DIST  YEAR_SOLD  \n",
       "0          0.828339       2018  \n",
       "1          5.524324       2019  "
      ]
     },
     "metadata": {},
     "execution_count": 10
    }
   ],
   "metadata": {}
  },
  {
   "cell_type": "code",
   "execution_count": 11,
   "source": [
    "# Remove unwanted column\r\n",
    "cleaned_perth_df = cleaned_perth_df.drop(columns = [\"DATE_SOLD\"])\r\n",
    "cleaned_perth_df.head(2)"
   ],
   "outputs": [
    {
     "output_type": "execute_result",
     "data": {
      "text/html": [
       "<div>\n",
       "<style scoped>\n",
       "    .dataframe tbody tr th:only-of-type {\n",
       "        vertical-align: middle;\n",
       "    }\n",
       "\n",
       "    .dataframe tbody tr th {\n",
       "        vertical-align: top;\n",
       "    }\n",
       "\n",
       "    .dataframe thead th {\n",
       "        text-align: right;\n",
       "    }\n",
       "</style>\n",
       "<table border=\"1\" class=\"dataframe\">\n",
       "  <thead>\n",
       "    <tr style=\"text-align: right;\">\n",
       "      <th></th>\n",
       "      <th>ADDRESS</th>\n",
       "      <th>SUBURB</th>\n",
       "      <th>PRICE</th>\n",
       "      <th>BEDROOMS</th>\n",
       "      <th>LAND_AREA</th>\n",
       "      <th>BUILD_YEAR</th>\n",
       "      <th>CBD_DIST</th>\n",
       "      <th>NEAREST_STN</th>\n",
       "      <th>NEAREST_STN_DIST</th>\n",
       "      <th>LATITUDE</th>\n",
       "      <th>LONGITUDE</th>\n",
       "      <th>NEAREST_SCH</th>\n",
       "      <th>NEAREST_SCH_DIST</th>\n",
       "      <th>YEAR_SOLD</th>\n",
       "    </tr>\n",
       "  </thead>\n",
       "  <tbody>\n",
       "    <tr>\n",
       "      <th>0</th>\n",
       "      <td>1 Acorn Place, South Lake</td>\n",
       "      <td>South Lake</td>\n",
       "      <td>565000</td>\n",
       "      <td>4</td>\n",
       "      <td>600</td>\n",
       "      <td>2003.0</td>\n",
       "      <td>18300</td>\n",
       "      <td>Cockburn Central Station</td>\n",
       "      <td>1800</td>\n",
       "      <td>-32.11590</td>\n",
       "      <td>115.842450</td>\n",
       "      <td>LAKELAND SENIOR HIGH SCHOOL</td>\n",
       "      <td>0.828339</td>\n",
       "      <td>2018</td>\n",
       "    </tr>\n",
       "    <tr>\n",
       "      <th>1</th>\n",
       "      <td>1 Addis Way, Wandi</td>\n",
       "      <td>Wandi</td>\n",
       "      <td>365000</td>\n",
       "      <td>3</td>\n",
       "      <td>351</td>\n",
       "      <td>2013.0</td>\n",
       "      <td>26900</td>\n",
       "      <td>Kwinana Station</td>\n",
       "      <td>4900</td>\n",
       "      <td>-32.19347</td>\n",
       "      <td>115.859553</td>\n",
       "      <td>ATWELL COLLEGE</td>\n",
       "      <td>5.524324</td>\n",
       "      <td>2019</td>\n",
       "    </tr>\n",
       "  </tbody>\n",
       "</table>\n",
       "</div>"
      ],
      "text/plain": [
       "                     ADDRESS      SUBURB   PRICE  BEDROOMS  LAND_AREA  \\\n",
       "0  1 Acorn Place, South Lake  South Lake  565000         4        600   \n",
       "1         1 Addis Way, Wandi       Wandi  365000         3        351   \n",
       "\n",
       "   BUILD_YEAR  CBD_DIST               NEAREST_STN  NEAREST_STN_DIST  LATITUDE  \\\n",
       "0      2003.0     18300  Cockburn Central Station              1800 -32.11590   \n",
       "1      2013.0     26900           Kwinana Station              4900 -32.19347   \n",
       "\n",
       "    LONGITUDE                  NEAREST_SCH  NEAREST_SCH_DIST  YEAR_SOLD  \n",
       "0  115.842450  LAKELAND SENIOR HIGH SCHOOL          0.828339       2018  \n",
       "1  115.859553               ATWELL COLLEGE          5.524324       2019  "
      ]
     },
     "metadata": {},
     "execution_count": 11
    }
   ],
   "metadata": {}
  },
  {
   "cell_type": "code",
   "execution_count": 12,
   "source": [
    "cleaned_perth_df.to_csv(\"csv/perth_properties.csv\", index=False)"
   ],
   "outputs": [
    {
     "output_type": "error",
     "ename": "PermissionError",
     "evalue": "[Errno 13] Permission denied: 'csv/perth_properties.csv'",
     "traceback": [
      "\u001b[1;31m---------------------------------------------------------------------------\u001b[0m",
      "\u001b[1;31mPermissionError\u001b[0m                           Traceback (most recent call last)",
      "\u001b[1;32m<ipython-input-12-ed8ced099f74>\u001b[0m in \u001b[0;36m<module>\u001b[1;34m\u001b[0m\n\u001b[1;32m----> 1\u001b[1;33m \u001b[0mcleaned_perth_df\u001b[0m\u001b[1;33m.\u001b[0m\u001b[0mto_csv\u001b[0m\u001b[1;33m(\u001b[0m\u001b[1;34m\"csv/perth_properties.csv\"\u001b[0m\u001b[1;33m,\u001b[0m \u001b[0mindex\u001b[0m\u001b[1;33m=\u001b[0m\u001b[1;32mFalse\u001b[0m\u001b[1;33m)\u001b[0m\u001b[1;33m\u001b[0m\u001b[1;33m\u001b[0m\u001b[0m\n\u001b[0m",
      "\u001b[1;32m~\\anaconda3\\envs\\pythondata\\lib\\site-packages\\pandas\\core\\generic.py\u001b[0m in \u001b[0;36mto_csv\u001b[1;34m(self, path_or_buf, sep, na_rep, float_format, columns, header, index, index_label, mode, encoding, compression, quoting, quotechar, line_terminator, chunksize, date_format, doublequote, escapechar, decimal)\u001b[0m\n\u001b[0;32m   3202\u001b[0m             \u001b[0mdecimal\u001b[0m\u001b[1;33m=\u001b[0m\u001b[0mdecimal\u001b[0m\u001b[1;33m,\u001b[0m\u001b[1;33m\u001b[0m\u001b[1;33m\u001b[0m\u001b[0m\n\u001b[0;32m   3203\u001b[0m         )\n\u001b[1;32m-> 3204\u001b[1;33m         \u001b[0mformatter\u001b[0m\u001b[1;33m.\u001b[0m\u001b[0msave\u001b[0m\u001b[1;33m(\u001b[0m\u001b[1;33m)\u001b[0m\u001b[1;33m\u001b[0m\u001b[1;33m\u001b[0m\u001b[0m\n\u001b[0m\u001b[0;32m   3205\u001b[0m \u001b[1;33m\u001b[0m\u001b[0m\n\u001b[0;32m   3206\u001b[0m         \u001b[1;32mif\u001b[0m \u001b[0mpath_or_buf\u001b[0m \u001b[1;32mis\u001b[0m \u001b[1;32mNone\u001b[0m\u001b[1;33m:\u001b[0m\u001b[1;33m\u001b[0m\u001b[1;33m\u001b[0m\u001b[0m\n",
      "\u001b[1;32m~\\anaconda3\\envs\\pythondata\\lib\\site-packages\\pandas\\io\\formats\\csvs.py\u001b[0m in \u001b[0;36msave\u001b[1;34m(self)\u001b[0m\n\u001b[0;32m    186\u001b[0m                 \u001b[0mself\u001b[0m\u001b[1;33m.\u001b[0m\u001b[0mmode\u001b[0m\u001b[1;33m,\u001b[0m\u001b[1;33m\u001b[0m\u001b[1;33m\u001b[0m\u001b[0m\n\u001b[0;32m    187\u001b[0m                 \u001b[0mencoding\u001b[0m\u001b[1;33m=\u001b[0m\u001b[0mself\u001b[0m\u001b[1;33m.\u001b[0m\u001b[0mencoding\u001b[0m\u001b[1;33m,\u001b[0m\u001b[1;33m\u001b[0m\u001b[1;33m\u001b[0m\u001b[0m\n\u001b[1;32m--> 188\u001b[1;33m                 \u001b[0mcompression\u001b[0m\u001b[1;33m=\u001b[0m\u001b[0mdict\u001b[0m\u001b[1;33m(\u001b[0m\u001b[0mself\u001b[0m\u001b[1;33m.\u001b[0m\u001b[0mcompression_args\u001b[0m\u001b[1;33m,\u001b[0m \u001b[0mmethod\u001b[0m\u001b[1;33m=\u001b[0m\u001b[0mself\u001b[0m\u001b[1;33m.\u001b[0m\u001b[0mcompression\u001b[0m\u001b[1;33m)\u001b[0m\u001b[1;33m,\u001b[0m\u001b[1;33m\u001b[0m\u001b[1;33m\u001b[0m\u001b[0m\n\u001b[0m\u001b[0;32m    189\u001b[0m             )\n\u001b[0;32m    190\u001b[0m             \u001b[0mclose\u001b[0m \u001b[1;33m=\u001b[0m \u001b[1;32mTrue\u001b[0m\u001b[1;33m\u001b[0m\u001b[1;33m\u001b[0m\u001b[0m\n",
      "\u001b[1;32m~\\anaconda3\\envs\\pythondata\\lib\\site-packages\\pandas\\io\\common.py\u001b[0m in \u001b[0;36mget_handle\u001b[1;34m(path_or_buf, mode, encoding, compression, memory_map, is_text)\u001b[0m\n\u001b[0;32m    426\u001b[0m         \u001b[1;32mif\u001b[0m \u001b[0mencoding\u001b[0m\u001b[1;33m:\u001b[0m\u001b[1;33m\u001b[0m\u001b[1;33m\u001b[0m\u001b[0m\n\u001b[0;32m    427\u001b[0m             \u001b[1;31m# Encoding\u001b[0m\u001b[1;33m\u001b[0m\u001b[1;33m\u001b[0m\u001b[1;33m\u001b[0m\u001b[0m\n\u001b[1;32m--> 428\u001b[1;33m             \u001b[0mf\u001b[0m \u001b[1;33m=\u001b[0m \u001b[0mopen\u001b[0m\u001b[1;33m(\u001b[0m\u001b[0mpath_or_buf\u001b[0m\u001b[1;33m,\u001b[0m \u001b[0mmode\u001b[0m\u001b[1;33m,\u001b[0m \u001b[0mencoding\u001b[0m\u001b[1;33m=\u001b[0m\u001b[0mencoding\u001b[0m\u001b[1;33m,\u001b[0m \u001b[0mnewline\u001b[0m\u001b[1;33m=\u001b[0m\u001b[1;34m\"\"\u001b[0m\u001b[1;33m)\u001b[0m\u001b[1;33m\u001b[0m\u001b[1;33m\u001b[0m\u001b[0m\n\u001b[0m\u001b[0;32m    429\u001b[0m         \u001b[1;32melif\u001b[0m \u001b[0mis_text\u001b[0m\u001b[1;33m:\u001b[0m\u001b[1;33m\u001b[0m\u001b[1;33m\u001b[0m\u001b[0m\n\u001b[0;32m    430\u001b[0m             \u001b[1;31m# No explicit encoding\u001b[0m\u001b[1;33m\u001b[0m\u001b[1;33m\u001b[0m\u001b[1;33m\u001b[0m\u001b[0m\n",
      "\u001b[1;31mPermissionError\u001b[0m: [Errno 13] Permission denied: 'csv/perth_properties.csv'"
     ]
    }
   ],
   "metadata": {}
  },
  {
   "cell_type": "markdown",
   "source": [
    "# To Create SQL Database"
   ],
   "metadata": {}
  },
  {
   "cell_type": "code",
   "execution_count": null,
   "source": [
    "# Create csv files for SQL databases\r\n",
    "address_suburb_df = cleaned_perth_df[[\"ADDRESS\",\"SUBURB\"]]\r\n",
    "address_suburb_df.to_csv(\"csv/address_suburb.csv\", index=False)\r\n",
    "\r\n",
    "address_price_df = cleaned_perth_df[[\"ADDRESS\",\"PRICE\"]]\r\n",
    "address_price_df.to_csv(\"csv/address_price.csv\", index=False)\r\n"
   ],
   "outputs": [],
   "metadata": {}
  },
  {
   "cell_type": "code",
   "execution_count": null,
   "source": [
    "bedroom_df = cleaned_perth_df.loc[cleaned_perth_df[\"BEDROOMS\"]== 4]\r\n",
    "bedroom_df[\"YEAR_SOLD\"] = bedroom_df[\"YEAR_SOLD\"].astype(int)\r\n",
    "# bedroom_df[\"YEAR_SOLD\"].hist(bins = 1, range=[2000, 2010], grid=False)\r\n",
    "plt.hist(bedroom_df[\"YEAR_SOLD\"])"
   ],
   "outputs": [
    {
     "output_type": "stream",
     "name": "stderr",
     "text": [
      "C:\\Users\\Nassim\\anaconda3\\envs\\pythondata\\lib\\site-packages\\ipykernel_launcher.py:2: SettingWithCopyWarning: \n",
      "A value is trying to be set on a copy of a slice from a DataFrame.\n",
      "Try using .loc[row_indexer,col_indexer] = value instead\n",
      "\n",
      "See the caveats in the documentation: https://pandas.pydata.org/pandas-docs/stable/user_guide/indexing.html#returning-a-view-versus-a-copy\n",
      "  \n"
     ]
    },
    {
     "output_type": "execute_result",
     "data": {
      "text/plain": [
       "(array([  45.,   36.,  131.,   84.,  338.,  373., 2082., 1857., 5456.,\n",
       "        5519.]),\n",
       " array([2005. , 2006.5, 2008. , 2009.5, 2011. , 2012.5, 2014. , 2015.5,\n",
       "        2017. , 2018.5, 2020. ]),\n",
       " <BarContainer object of 10 artists>)"
      ]
     },
     "metadata": {},
     "execution_count": 13
    },
    {
     "output_type": "display_data",
     "data": {
      "image/png": "[encoded data removed]",
      "text/plain": [
       "<Figure size 432x288 with 1 Axes>"
      ]
     },
     "metadata": {
      "needs_background": "light"
     }
    }
   ],
   "metadata": {}
  },
  {
   "cell_type": "code",
   "execution_count": null,
   "source": [
    "cleaned_perth_df[\"LAND_AREA\"].hist(bins = 30, range=[10, 1500], grid=False)\r\n"
   ],
   "outputs": [
    {
     "output_type": "execute_result",
     "data": {
      "text/plain": [
       "<AxesSubplot:>"
      ]
     },
     "metadata": {},
     "execution_count": 14
    },
    {
     "output_type": "display_data",
     "data": {
      "image/png": "[encoded data removed]",
      "text/plain": [
       "<Figure size 432x288 with 1 Axes>"
      ]
     },
     "metadata": {
      "needs_background": "light"
     }
    }
   ],
   "metadata": {}
  },
  {
   "cell_type": "code",
   "execution_count": null,
   "source": [
    "cleaned_perth_df.info()"
   ],
   "outputs": [
    {
     "output_type": "stream",
     "name": "stdout",
     "text": [
      "<class 'pandas.core.frame.DataFrame'>\n",
      "Int64Index: 30330 entries, 0 to 33655\n",
      "Data columns (total 14 columns):\n",
      " #   Column            Non-Null Count  Dtype  \n",
      "---  ------            --------------  -----  \n",
      " 0   ADDRESS           30330 non-null  object \n",
      " 1   SUBURB            30330 non-null  object \n",
      " 2   PRICE             30330 non-null  int64  \n",
      " 3   BEDROOMS          30330 non-null  int64  \n",
      " 4   LAND_AREA         30330 non-null  int64  \n",
      " 5   BUILD_YEAR        27594 non-null  float64\n",
      " 6   CBD_DIST          30330 non-null  int64  \n",
      " 7   NEAREST_STN       30330 non-null  object \n",
      " 8   NEAREST_STN_DIST  30330 non-null  int64  \n",
      " 9   LATITUDE          30330 non-null  float64\n",
      " 10  LONGITUDE         30330 non-null  float64\n",
      " 11  NEAREST_SCH       30330 non-null  object \n",
      " 12  NEAREST_SCH_DIST  30330 non-null  float64\n",
      " 13  YEAR_SOLD         30330 non-null  int32  \n",
      "dtypes: float64(4), int32(1), int64(5), object(4)\n",
      "memory usage: 3.4+ MB\n"
     ]
    }
   ],
   "metadata": {}
  },
  {
   "cell_type": "code",
   "execution_count": null,
   "source": [
    "plt.scatter(cleaned_perth_df[\"CBD_DIST\"], cleaned_perth_df[\"LAND_AREA\"])"
   ],
   "outputs": [
    {
     "output_type": "execute_result",
     "data": {
      "text/plain": [
       "<matplotlib.collections.PathCollection at 0x2175103a470>"
      ]
     },
     "metadata": {},
     "execution_count": 16
    },
    {
     "output_type": "display_data",
     "data": {
      "image/png": "[encoded data removed]",
      "text/plain": [
       "<Figure size 432x288 with 1 Axes>"
      ]
     },
     "metadata": {
      "needs_background": "light"
     }
    }
   ],
   "metadata": {}
  },
  {
   "cell_type": "code",
   "execution_count": 14,
   "source": [
    "cleaned_perth_df[\"NEAREST_STN\"].value_counts().head(10)"
   ],
   "outputs": [
    {
     "output_type": "execute_result",
     "data": {
      "text/plain": [
       "Midland Station             2826\n",
       "Warwick Station             1675\n",
       "Cockburn Central Station    1545\n",
       "Butler Station              1136\n",
       "Currambine Station          1109\n",
       "Bull Creek Station          1057\n",
       "Edgewater Station            970\n",
       "Murdoch Station              950\n",
       "Canning Bridge Station       855\n",
       "Stirling Station             840\n",
       "Name: NEAREST_STN, dtype: int64"
      ]
     },
     "metadata": {},
     "execution_count": 14
    }
   ],
   "metadata": {}
  }
 ],
 "metadata": {
  "orig_nbformat": 4,
  "language_info": {
   "name": "python",
   "version": "3.6.13",
   "mimetype": "text/x-python",
   "codemirror_mode": {
    "name": "ipython",
    "version": 3
   },
   "pygments_lexer": "ipython3",
   "nbconvert_exporter": "python",
   "file_extension": ".py"
  },
  "kernelspec": {
   "name": "python3",
   "display_name": "Python 3.6.13 64-bit ('pythondata': conda)"
  },
  "interpreter": {
   "hash": "0b4f2527d7d2df3f966db050fbea417d67b834030558d4d126ba89140d54f62d"
  }
 },
 "nbformat": 4,
 "nbformat_minor": 2
}