{
 "cells": [
  {
   "cell_type": "markdown",
   "source": [
    "# Python program to convert CSV to HTML Table"
   ],
   "metadata": {}
  },
  {
   "cell_type": "code",
   "execution_count": 3,
   "source": [
    "import pandas as pd\r\n"
   ],
   "outputs": [],
   "metadata": {}
  },
  {
   "cell_type": "code",
   "execution_count": 4,
   "source": [
    "# to read csv file \r\n",
    "file_path = \"csv/perth_properties.csv\"\r\n",
    "properties = pd.read_csv(file_path)\r\n",
    "\r\n",
    "properties.reset_index(drop=True, inplace=True)\r\n",
    "\r\n",
    "# to save as html file\r\n",
    "properties.to_html(\"visualisations/table.html\", index= False)\r\n",
    "\r\n",
    "\r\n"
   ],
   "outputs": [],
   "metadata": {}
  }
 ],
 "metadata": {
  "orig_nbformat": 4,
  "language_info": {
   "name": "python",
   "version": "3.6.13",
   "mimetype": "text/x-python",
   "codemirror_mode": {
    "name": "ipython",
    "version": 3
   },
   "pygments_lexer": "ipython3",
   "nbconvert_exporter": "python",
   "file_extension": ".py"
  },
  "kernelspec": {
   "name": "python3",
   "display_name": "Python 3.6.13 64-bit ('pythondata': conda)"
  },
  "interpreter": {
   "hash": "0b4f2527d7d2df3f966db050fbea417d67b834030558d4d126ba89140d54f62d"
  }
 },
 "nbformat": 4,
 "nbformat_minor": 2
}